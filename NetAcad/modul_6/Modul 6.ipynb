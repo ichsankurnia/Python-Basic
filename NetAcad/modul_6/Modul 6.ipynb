{
 "cells": [
  {
   "cell_type": "markdown",
   "metadata": {},
   "source": [
    "## Objek Rekening\n",
    "\n",
    "### Atribut\n",
    "- Saldo\n",
    "\n",
    "### Behavior\n",
    "- Kredit\n",
    "- Debit\n",
    "- Cetak Saldo"
   ]
  },
  {
   "cell_type": "code",
   "execution_count": null,
   "metadata": {},
   "outputs": [],
   "source": [
    "saldo = 9000\n",
    "\n",
    "def kredit(saldo,jumlah):\n",
    "    saldo += jumlah\n",
    "    return saldo\n",
    "    \n",
    "def debit(saldo,jumlah):\n",
    "    saldo -= jumlah\n",
    "    return saldo\n",
    "    \n",
    "def cetak():\n",
    "    print(saldo)\n",
    "    \n",
    "cetak()\n",
    "saldo = debit(saldo,1000)\n",
    "cetak()\n",
    "saldo = kredit(saldo,3000)\n",
    "cetak()\n"
   ]
  },
  {
   "cell_type": "code",
   "execution_count": null,
   "metadata": {},
   "outputs": [],
   "source": [
    "class Rekening:\n",
    "    def __init__(self):\n",
    "        self.__saldo = 0 \n",
    "        \n",
    "    def kredit(self, jumlah):\n",
    "        self.__saldo += jumlah\n",
    "        \n",
    "    def debit(self, jumlah):\n",
    "        if jumlah > self.__saldo:\n",
    "            print(\"Gagal Debit, Jumlah melebihi Saldo\")\n",
    "            return\n",
    "        self.__saldo -= jumlah\n",
    "        \n",
    "    def cetak(self):\n",
    "        print(\"Saldo saat ini adalah\",self.__saldo)"
   ]
  },
  {
   "cell_type": "code",
   "execution_count": null,
   "metadata": {},
   "outputs": [],
   "source": [
    "biAni = Rekening()\n",
    "biAni.cetak()\n",
    "biAni.kredit(9000)\n",
    "biAni.cetak()\n",
    "biAni.debit(90000)\n",
    "biAni.cetak()\n",
    "biAni.cetak()"
   ]
  },
  {
   "cell_type": "code",
   "execution_count": null,
   "metadata": {},
   "outputs": [],
   "source": [
    "bniBudi = Rekening()\n",
    "bniBudi.cetak()\n",
    "bniBudi.kredit(8000)\n",
    "bniBudi.cetak()"
   ]
  },
  {
   "cell_type": "code",
   "execution_count": null,
   "metadata": {},
   "outputs": [],
   "source": [
    "nama = \"Guntur Budi Herwanto\"\n",
    "nama.split(\" \")"
   ]
  },
  {
   "cell_type": "code",
   "execution_count": null,
   "metadata": {},
   "outputs": [],
   "source": [
    "class Siswa:\n",
    "    def __init__(self,nis,nama,alamat):\n",
    "        self.__nis = nis\n",
    "        self.__nama = nama\n",
    "        self.__alamat = alamat\n",
    "        self.__mata_pelajaran = []\n",
    "        self.__nilai = []\n",
    "        \n",
    "    def tampilkan(self):\n",
    "        print(\"=\"*20)\n",
    "        print(self.__nis,self.__nama,self.__alamat)\n",
    "        for i,j in enumerate(self.__mata_pelajaran):\n",
    "            print(self.__mata_pelajaran[i],self.__nilai[i])\n",
    "        \n",
    "        \n",
    "    def tambahNilai(self,mapel,nilai):\n",
    "        self.__mata_pelajaran.append(mapel)\n",
    "        self.__nilai.append(nilai)\n",
    "        \n",
    "class SiswaSMK(Siswa):\n",
    "    def __init__(self,nis,nama,alamat,jurusan):\n",
    "        self.__jurusan = jurusan\n",
    "        super().__init__(nis,nama,alamat)\n",
    "    \n",
    "    def kerjaIndustri(self):\n",
    "        print(\"Melaksanakan Kerja Industri\")\n",
    "        \n",
    "    # override\n",
    "    def tampilkan(self):\n",
    "        super().tampilkan()\n",
    "        print(self.__jurusan)"
   ]
  },
  {
   "cell_type": "code",
   "execution_count": null,
   "metadata": {},
   "outputs": [],
   "source": [
    "siswa1 = Siswa(\"12345\",\"Ani\",\"Sleman\")\n",
    "siswa1.tambahNilai(\"Matematika\",90)\n",
    "siswa1.tambahNilai(\"Bahasa Indonesia\",80)\n",
    "siswa1.tambahNilai(\"Bahasa Inggris\",85)\n",
    "siswa1.tampilkan()"
   ]
  },
  {
   "cell_type": "code",
   "execution_count": null,
   "metadata": {},
   "outputs": [],
   "source": [
    "siswaSmk1 = SiswaSMK(\"67612\",\"Budi\",\"Bantul\",\"Otomotif\")\n",
    "siswaSmk1.tambahNilai(\"Matematika\",95)\n",
    "siswaSmk1.tambahNilai(\"Bahasa Indonesia\",70)\n",
    "siswaSmk1.tambahNilai(\"Bahasa Inggris\",95)\n",
    "siswaSmk1.tampilkan()"
   ]
  },
  {
   "cell_type": "code",
   "execution_count": null,
   "metadata": {},
   "outputs": [],
   "source": [
    "def pembagian(n):\n",
    "    try:\n",
    "        n = 1 / n\n",
    "    except ZeroDivisionError:\n",
    "        print(\"Pembagian Gagal, Penyebut tidak boleh nol\")\n",
    "        return None\n",
    "    else:\n",
    "        print(\"Pembagian berjalan dengan baik\")\n",
    "    finally:\n",
    "        print(\"Selesai....\")\n",
    "        return n\n",
    "\n",
    "\n",
    "a = pembagian(0)\n",
    "print(a)"
   ]
  },
  {
   "cell_type": "code",
   "execution_count": null,
   "metadata": {},
   "outputs": [],
   "source": [
    "try:\n",
    "    n = int(\"Hello\")\n",
    "except Exception as e:\n",
    "    print(e)\n",
    "    "
   ]
  },
  {
   "cell_type": "code",
   "execution_count": null,
   "metadata": {},
   "outputs": [],
   "source": [
    "for i in range(5,10,2):\n",
    "    print(i)"
   ]
  },
  {
   "cell_type": "code",
   "execution_count": null,
   "metadata": {},
   "outputs": [],
   "source": [
    "class Fib:\n",
    "    def __init__(self, nn):\n",
    "        print(\"Init\")\n",
    "        self.__n = nn\n",
    "        self.__i = 0\n",
    "        self.__p1 = self.__p2 = 1\n",
    "        \n",
    "    def __iter__(self):\n",
    "        print(\"Iter\")\n",
    "        return self\n",
    "    \n",
    "    def __next__(self):\n",
    "        print(\"Next\")\n",
    "        self.__i += 1\n",
    "        if self.__i > self.__n:\n",
    "            raise StopIteration\n",
    "        if self.__i in [1,2]:\n",
    "            return 1\n",
    "        \n",
    "        ret = self.__p1 + self.__p2\n",
    "        self.__p1 , self.__p2 = self.__p2, ret\n",
    "        \n",
    "        return ret\n",
    "    \n",
    "for i in Fib(19):\n",
    "    print(i, end=\" \")"
   ]
  },
  {
   "cell_type": "markdown",
   "metadata": {},
   "source": [
    "# Processing Files"
   ]
  },
  {
   "cell_type": "code",
   "execution_count": null,
   "metadata": {},
   "outputs": [],
   "source": [
    "s = open('halo.txt','r')\n",
    "ch = s.read(1)\n",
    "while ch != '':\n",
    "    if ch not in ['a','i','u','e','o']:\n",
    "        print(ch,end=\"\")\n",
    "    ch = s.read(1)\n",
    "    \n",
    "s.close()"
   ]
  },
  {
   "cell_type": "code",
   "execution_count": null,
   "metadata": {},
   "outputs": [],
   "source": [
    "t = open('transaksi.txt','r')\n",
    "baris = t.readline()\n",
    "while baris != '':\n",
    "    print(baris,end=\"\")\n",
    "    baris = t.readline()"
   ]
  },
  {
   "cell_type": "code",
   "execution_count": null,
   "metadata": {},
   "outputs": [],
   "source": [
    "transaksi = open('transaksi.txt','r')\n",
    "\n",
    "bankBudi = Rekening()\n",
    "\n",
    "for baris in transaksi:\n",
    "    jns_transaksi = baris.split()[0]\n",
    "    jumlah = int(baris.split()[1])\n",
    "    if(jns_transaksi=='K'):\n",
    "        bankBudi.kredit(jumlah)\n",
    "    elif(jns_transaksi=='D'):\n",
    "        bankBudi.debit(jumlah)\n",
    "    else:\n",
    "        print(\"Jenis Transaksi Tidak Valid\")\n",
    "        \n",
    "    bankBudi.cetak()"
   ]
  },
  {
   "cell_type": "code",
   "execution_count": null,
   "metadata": {},
   "outputs": [],
   "source": [
    "import random\n",
    "transaksi = open('transaksi.txt','a+')\n",
    "\n",
    "for i in range(100):\n",
    "    print(i)\n",
    "    if i%2==0:        \n",
    "        transaksi.write(\"\\nK \"+str(random.randint(1000,5000)))\n",
    "    else:\n",
    "        transaksi.write(\"\\nD \"+str(random.randint(1000,5000)))\n",
    "        \n",
    "transaksi.close()"
   ]
  },
  {
   "cell_type": "code",
   "execution_count": 134,
   "metadata": {},
   "outputs": [
    {
     "name": "stdout",
     "output_type": "stream",
     "text": [
      "1\n",
      "2\n",
      "4\n",
      "8\n",
      "16\n",
      "32\n",
      "64\n",
      "128\n",
      "256\n",
      "512\n",
      "1024\n",
      "2048\n",
      "4096\n",
      "8192\n",
      "16384\n",
      "32768\n",
      "65536\n",
      "131072\n",
      "262144\n",
      "524288\n",
      "1048576\n",
      "2097152\n",
      "4194304\n",
      "8388608\n",
      "16777216\n",
      "33554432\n",
      "67108864\n",
      "134217728\n",
      "268435456\n",
      "536870912\n",
      "1073741824\n",
      "2147483648\n",
      "4294967296\n",
      "8589934592\n",
      "17179869184\n",
      "34359738368\n",
      "68719476736\n",
      "137438953472\n",
      "274877906944\n",
      "549755813888\n",
      "1099511627776\n",
      "2199023255552\n",
      "4398046511104\n",
      "8796093022208\n",
      "17592186044416\n",
      "35184372088832\n",
      "70368744177664\n",
      "140737488355328\n",
      "281474976710656\n",
      "562949953421312\n",
      "1125899906842624\n",
      "2251799813685248\n",
      "4503599627370496\n",
      "9007199254740992\n",
      "18014398509481984\n",
      "36028797018963968\n",
      "72057594037927936\n",
      "144115188075855872\n",
      "288230376151711744\n",
      "576460752303423488\n",
      "1152921504606846976\n",
      "2305843009213693952\n",
      "4611686018427387904\n",
      "9223372036854775808\n",
      "18446744073709551616\n",
      "36893488147419103232\n",
      "73786976294838206464\n",
      "147573952589676412928\n",
      "295147905179352825856\n",
      "590295810358705651712\n",
      "1180591620717411303424\n",
      "2361183241434822606848\n",
      "4722366482869645213696\n",
      "9444732965739290427392\n",
      "18889465931478580854784\n",
      "37778931862957161709568\n",
      "75557863725914323419136\n",
      "151115727451828646838272\n",
      "302231454903657293676544\n",
      "604462909807314587353088\n"
     ]
    }
   ],
   "source": [
    "def perkalianDua(n):\n",
    "    pow = 1\n",
    "    for i in range(n):\n",
    "        yield pow\n",
    "        pow *= 2\n",
    "        \n",
    "for v in perkalianDua(80):\n",
    "    print(v)"
   ]
  },
  {
   "cell_type": "code",
   "execution_count": null,
   "metadata": {},
   "outputs": [],
   "source": []
  }
 ],
 "metadata": {
  "kernelspec": {
   "display_name": "Python 3",
   "language": "python",
   "name": "python3"
  },
  "language_info": {
   "codemirror_mode": {
    "name": "ipython",
    "version": 3
   },
   "file_extension": ".py",
   "mimetype": "text/x-python",
   "name": "python",
   "nbconvert_exporter": "python",
   "pygments_lexer": "ipython3",
   "version": "3.6.7"
  }
 },
 "nbformat": 4,
 "nbformat_minor": 2
}
